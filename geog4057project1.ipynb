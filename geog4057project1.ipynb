{
 "cells": [
  {
   "cell_type": "code",
   "execution_count": 1,
   "id": "ebe50607-e994-4622-a0db-b572c19a7d21",
   "metadata": {},
   "outputs": [
    {
     "name": "stdout",
     "output_type": "stream",
     "text": [
      "Total entries: 496\n",
      "Sample record: ['row-69eh-dt2h-vwz3', '00000000-0000-0000-A344-B176ECD7FE9B', 0, 1628101573, None, 1628101573, None, '{ }', 'MULTIPOLYGON (((-90.092842237961 29.969376832976, -90.09206523793 29.970255834178, -90.091376237438 29.971000834423, -90.090628237821 29.971830834325, -90.090391236797 29.972100835188, -90.089449236358 29.971550834873, -90.088767236134 29.971163834089, -90.087926235745 29.970586834355, -90.08705723576 29.970059834233, -90.086135234355 29.969567833971, -90.084839233564 29.968734834088, -90.084580233207 29.968568833541, -90.085052233499 29.968045833564, -90.085633233463 29.967421833521, -90.085799233941 29.967243833329, -90.086482234167 29.966464832285, -90.087242234263 29.965596832431, -90.0873702349 29.965447831869, -90.087512234348 29.965550832148, -90.088310235279 29.96610083245, -90.088882235725 29.966494831847, -90.089729235653 29.967051832427, -90.090544236508 29.967635832383, -90.0913742373 29.968210832951, -90.092028237156 29.96865283276, -90.092964238289 29.969231833465, -90.092842237961 29.969376832976)))', '101', '220710050002', 'C', '3085170.5967876972', '7251.2480743083825']\n"
     ]
    }
   ],
   "source": [
    "import json\n",
    "\n",
    "json_path = r\"C:\\Users\\nolan\\Desktop\\geog4057project\\no_tax.json\"\n",
    "\n",
    "with open(json_path, \"r\") as file:\n",
    "    data = json.load(file)\n",
    "\n",
    "print(\"Total entries:\", len(data[\"data\"]))\n",
    "print(\"Sample record:\", data[\"data\"][0])"
   ]
  },
  {
   "cell_type": "code",
   "execution_count": 3,
   "id": "d0dc1806-be92-4a14-86ea-c40fd5d5e538",
   "metadata": {},
   "outputs": [
    {
     "name": "stdout",
     "output_type": "stream",
     "text": [
      "0: sid\n",
      "1: id\n",
      "2: position\n",
      "3: created_at\n",
      "4: created_meta\n",
      "5: updated_at\n",
      "6: updated_meta\n",
      "7: meta\n",
      "8: the_geom\n",
      "9: OBJECTID\n",
      "10: ID\n",
      "11: Cluster Letter\n",
      "12: Shape.STArea()\n",
      "13: Shape.STLength()\n"
     ]
    }
   ],
   "source": [
    "columns = data[\"meta\"][\"view\"][\"columns\"]\n",
    "for i, col in enumerate(columns):\n",
    "    print(f\"{i}: {col['name']}\")"
   ]
  },
  {
   "cell_type": "code",
   "execution_count": 7,
   "id": "5991afd5-c6b7-4c0f-b3ec-af507c6e784c",
   "metadata": {},
   "outputs": [
    {
     "name": "stdout",
     "output_type": "stream",
     "text": [
      "446 features inserted.\n",
      "50 records skipped due to invalid geometry.\n"
     ]
    }
   ],
   "source": [
    "import arcpy\n",
    "import os\n",
    "import json\n",
    "\n",
    "json_path = r\"C:\\Users\\nolan\\Desktop\\geog4057project\\no_tax.json\"\n",
    "shapefile_path = r\"C:\\Users\\nolan\\Desktop\\geog4057project\\no_tax.shp\"\n",
    "\n",
    "with open(json_path, \"r\") as file:\n",
    "    data = json.load(file)\n",
    "\n",
    "records = data[\"data\"]\n",
    "sr = arcpy.SpatialReference(4326)\n",
    "\n",
    "folder, name = os.path.split(shapefile_path)\n",
    "arcpy.env.workspace = folder\n",
    "arcpy.env.overwriteOutput = True\n",
    "arcpy.management.CreateFeatureclass(folder, name, \"POLYGON\", spatial_reference=sr)\n",
    "\n",
    "fields = [(\"OBJECTID\", \"LONG\"), (\"GEOID\", \"TEXT\"), (\"Cluster\", \"TEXT\"),\n",
    "          (\"Area\", \"DOUBLE\"), (\"Length\", \"DOUBLE\")]\n",
    "for fname, ftype in fields:\n",
    "    arcpy.management.AddField(shapefile_path, fname, ftype)\n",
    "\n",
    "with arcpy.da.InsertCursor(shapefile_path, [\"SHAPE@\"] + [f[0] for f in fields]) as cursor:\n",
    "    skipped = 0\n",
    "    for row in records:\n",
    "        wkt = row[8].strip()\n",
    "\n",
    "        if not wkt or wkt in ['{}', 'None', None]:\n",
    "            skipped += 1\n",
    "            continue\n",
    "\n",
    "        try:\n",
    "            geom = arcpy.FromWKT(wkt, sr)\n",
    "            attr = [int(row[9]), row[10], row[11], float(row[12]), float(row[13])]\n",
    "            cursor.insertRow([geom] + attr)\n",
    "        except:\n",
    "            skipped += 1\n",
    "            continue\n",
    "\n",
    "print(f\"{len(records) - skipped} features inserted.\")\n",
    "print(f\"{skipped} records skipped due to invalid geometry.\")"
   ]
  },
  {
   "cell_type": "code",
   "execution_count": null,
   "id": "c506e304-87f9-46d2-a8f9-85d7d4e14dcc",
   "metadata": {},
   "outputs": [],
   "source": []
  }
 ],
 "metadata": {
  "kernelspec": {
   "display_name": "ArcPyClone",
   "language": "python",
   "name": "arcpyclone"
  },
  "language_info": {
   "codemirror_mode": {
    "name": "ipython",
    "version": 3
   },
   "file_extension": ".py",
   "mimetype": "text/x-python",
   "name": "python",
   "nbconvert_exporter": "python",
   "pygments_lexer": "ipython3",
   "version": "3.9.18"
  }
 },
 "nbformat": 4,
 "nbformat_minor": 5
}
